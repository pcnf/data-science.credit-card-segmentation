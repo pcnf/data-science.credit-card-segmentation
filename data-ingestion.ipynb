{
 "cells": [
  {
   "cell_type": "code",
   "execution_count": 10,
   "id": "bbbb7f7d-efe6-4e3c-a630-5926071a12a7",
   "metadata": {
    "tags": []
   },
   "outputs": [],
   "source": [
    "from pyhive import trino\n",
    "from getpass import getpass\n",
    "import pandas as pd\n",
    "import awswrangler as wr\n",
    "import seaborn as sns"
   ]
  },
  {
   "cell_type": "code",
   "execution_count": 3,
   "id": "038bf680-f4ae-4b96-b609-f9a7b0dcdc7d",
   "metadata": {
    "tags": []
   },
   "outputs": [
    {
     "name": "stdin",
     "output_type": "stream",
     "text": [
      "Insert your User u00xxxx:  ········\n",
      "Insert password:  ········\n"
     ]
    },
    {
     "name": "stdout",
     "output_type": "stream",
     "text": [
      "<pyhive.trino.Connection object at 0x7f643ec57610>\n"
     ]
    }
   ],
   "source": [
    "conn = trino.connect(\n",
    "    host = 'trino.de.in.devneon.com.br',\n",
    "    port = 443,\n",
    "    protocol = 'https',\n",
    "    username = getpass('Insert your User u00xxxx: '),  \n",
    "    password = getpass('Insert password: '),\n",
    ")\n",
    "print(conn)"
   ]
  },
  {
   "cell_type": "code",
   "execution_count": 6,
   "id": "c21ecab1-7a36-4102-8841-ed9bfa3bb653",
   "metadata": {
    "tags": []
   },
   "outputs": [],
   "source": [
    "query_card_transactions = f\"\"\"\n",
    "SELECT \n",
    "    distinct od.clientid,\n",
    "    DAY(current_date - MAX(transactiondate)) as RECENCY,\n",
    "    COUNT(transactiondate) as FREQUENCY,\n",
    "    SUM(convertedvalue) as MONETARY\n",
    "FROM data_processed.operacoes_diaria od\n",
    "LEFT JOIN neondw_bi.dimension_client dc on od.clientid = dc.clientid\n",
    "WHERE operationstatus = 'EFETIVADO' \n",
    "AND product = 'CARTAO CREDITO'\n",
    "AND subproduct in ('FISICO CREDITO NACIONAL', \n",
    "\t\t\t\t\t'VIRTUAL CREDITO NACIONAL', \n",
    "\t\t\t\t\t'FISICO CREDITO INTERNACIONAL',\n",
    "\t\t\t\t\t'VIRTUAL CREDITO INTERNACIONAL')\n",
    "AND transactiondate between date_add('day', -60, current_date) and current_date\n",
    "AND persontype = 'PF'\n",
    "GROUP BY 1\n",
    "ORDER BY RECENCY asc\n",
    "\"\"\""
   ]
  },
  {
   "cell_type": "code",
   "execution_count": 7,
   "id": "1305870d-a29c-4a52-8ca6-cd89c9755e63",
   "metadata": {
    "tags": []
   },
   "outputs": [],
   "source": [
    "df = pd.read_sql(query_card_transactions, conn)"
   ]
  },
  {
   "cell_type": "code",
   "execution_count": 9,
   "id": "d5237416-5320-40c5-99ae-a8ccd11e63be",
   "metadata": {
    "tags": []
   },
   "outputs": [
    {
     "data": {
      "text/plain": [
       "{'paths': ['s3://neon-datascience-sandbox/segmentacao-cartoes/card-use'],\n",
       " 'partitions_values': {}}"
      ]
     },
     "execution_count": 9,
     "metadata": {},
     "output_type": "execute_result"
    }
   ],
   "source": [
    "wr.s3.to_parquet(df, 's3://neon-datascience-sandbox/segmentacao-cartoes/card-use')"
   ]
  },
  {
   "cell_type": "code",
   "execution_count": 25,
   "id": "e56262cc-7783-483c-961c-e69582855537",
   "metadata": {
    "tags": []
   },
   "outputs": [],
   "source": [
    "querie_dimension = f\"\"\"\n",
    "SELECT\n",
    "\tclientid,\n",
    "\tpresumedincome,\n",
    "\tage,\n",
    "\tageneon,\n",
    "    flaginviteduser\n",
    "FROM hive.neondw_bi.dimension_client\n",
    "WHERE clientstatus = 'Ativo'\n",
    "AND persontype = 'PF'\n",
    "\"\"\""
   ]
  },
  {
   "cell_type": "code",
   "execution_count": 26,
   "id": "cbbeb892-f22a-45fa-9cf3-fb46c4730745",
   "metadata": {
    "tags": []
   },
   "outputs": [],
   "source": [
    "df_dimension = pd.read_sql(querie_dimension, conn)"
   ]
  },
  {
   "cell_type": "code",
   "execution_count": 27,
   "id": "5e700be6-8ba8-447a-992c-6ad7f787e564",
   "metadata": {
    "tags": []
   },
   "outputs": [
    {
     "data": {
      "text/plain": [
       "{'paths': ['s3://neon-datascience-sandbox/segmentacao-cartoes/dimension'],\n",
       " 'partitions_values': {}}"
      ]
     },
     "execution_count": 27,
     "metadata": {},
     "output_type": "execute_result"
    }
   ],
   "source": [
    "wr.s3.to_parquet(df_dimension, 's3://neon-datascience-sandbox/segmentacao-cartoes/dimension')"
   ]
  },
  {
   "cell_type": "code",
   "execution_count": 44,
   "id": "9c67c685-b396-4208-9dc6-0749c2f3c7bc",
   "metadata": {
    "tags": []
   },
   "outputs": [],
   "source": [
    "querie_gh = f\"\"\"\n",
    "SELECT\n",
    "    clientid,\n",
    "    CASE\n",
    "        WHEN score <= 1 THEN NULL\n",
    "        WHEN score <= 33 THEN 10\n",
    "        WHEN score <= 44 THEN 9\n",
    "        WHEN score <= 60 THEN 8\n",
    "        WHEN score <= 70 THEN 7\n",
    "        WHEN score <= 82 THEN 6\n",
    "        WHEN score <= 106 THEN 5\n",
    "        WHEN score <= 125 THEN 4\n",
    "        WHEN score <= 152 THEN 3\n",
    "        WHEN score <= 202 THEN 2\n",
    "    ELSE 1\n",
    "    END AS GH_VL,\n",
    "    MAX(reference_date) as date \n",
    "FROM hive.boavista.customizado_neon_v2 A\n",
    "LEFT JOIN neondw_bi.dimension_client B ON A.document_nu = B.cpf_cnpj\n",
    "WHERE persontype = 'PF'\n",
    "AND clientstatus = 'Ativo'\n",
    "GROUP BY 1,2\n",
    "\"\"\""
   ]
  },
  {
   "cell_type": "code",
   "execution_count": 45,
   "id": "1a7614ca-5d7a-41c3-b5d4-eb008c0d7ed4",
   "metadata": {
    "tags": []
   },
   "outputs": [],
   "source": [
    "df_gh = pd.read_sql(querie_gh, conn)"
   ]
  },
  {
   "cell_type": "code",
   "execution_count": 47,
   "id": "1b917d25-dafe-4530-bdcb-c63a7de7cea4",
   "metadata": {
    "tags": []
   },
   "outputs": [],
   "source": [
    "del df_gh['date']"
   ]
  },
  {
   "cell_type": "code",
   "execution_count": 48,
   "id": "93e9b5cd-f0ee-4810-a1b2-e4831d6233f5",
   "metadata": {
    "tags": []
   },
   "outputs": [
    {
     "data": {
      "text/plain": [
       "{'paths': ['s3://neon-datascience-sandbox/segmentacao-cartoes/gh'],\n",
       " 'partitions_values': {}}"
      ]
     },
     "execution_count": 48,
     "metadata": {},
     "output_type": "execute_result"
    }
   ],
   "source": [
    "wr.s3.to_parquet(df_gh, 's3://neon-datascience-sandbox/segmentacao-cartoes/gh')"
   ]
  },
  {
   "cell_type": "code",
   "execution_count": 49,
   "id": "f65a69b3-a019-4bbf-a7d4-638a76b1b083",
   "metadata": {
    "tags": []
   },
   "outputs": [],
   "source": [
    "querie_viracredito = f\"\"\"\n",
    "SELECT \n",
    "\tidcliente as clientid,\n",
    "\t1 as tem_viracredito\n",
    "FROM refined.products.cards_crdt_card_viracredito_fact\n",
    "WHERE flag in ('Concessão', 'Aumento de limite')\n",
    "AND engagement_ccc_dt <= current_date\n",
    "\"\"\""
   ]
  },
  {
   "cell_type": "code",
   "execution_count": 50,
   "id": "99f6c9df-67de-40c4-9e06-a2d848de83d4",
   "metadata": {
    "tags": []
   },
   "outputs": [],
   "source": [
    "df_viracredito = pd.read_sql(querie_viracredito, conn)"
   ]
  },
  {
   "cell_type": "code",
   "execution_count": 51,
   "id": "c3c8aab6-3339-468a-860c-3765a12d8a12",
   "metadata": {
    "tags": []
   },
   "outputs": [
    {
     "data": {
      "text/plain": [
       "{'paths': ['s3://neon-datascience-sandbox/segmentacao-cartoes/viracredito'],\n",
       " 'partitions_values': {}}"
      ]
     },
     "execution_count": 51,
     "metadata": {},
     "output_type": "execute_result"
    }
   ],
   "source": [
    "wr.s3.to_parquet(df_viracredito, 's3://neon-datascience-sandbox/segmentacao-cartoes/viracredito')"
   ]
  },
  {
   "cell_type": "code",
   "execution_count": 56,
   "id": "a7384644-7ea9-40b0-be0b-eeb5a92972b8",
   "metadata": {
    "tags": []
   },
   "outputs": [],
   "source": [
    "querie_account_balance = f\"\"\"\n",
    "    select\n",
    "        clientid,\n",
    "        sum(totalbalancecumulatedcheckingaccount) ACCOUNT_BALANCE_VL\n",
    "    from\n",
    "        data_processed.accountbalance\n",
    "    where\n",
    "        data between date_add('day', -60, current_date) and current_date\n",
    "    group by 1 \"\"\""
   ]
  },
  {
   "cell_type": "code",
   "execution_count": 57,
   "id": "5aa06c99-14bf-44a9-844f-4cee3ef6a0da",
   "metadata": {
    "tags": []
   },
   "outputs": [],
   "source": [
    "df_account_balance = pd.read_sql(querie_account_balance, conn)"
   ]
  },
  {
   "cell_type": "code",
   "execution_count": 58,
   "id": "caa673ea-99db-47fe-a455-5de17c7e0af7",
   "metadata": {
    "tags": []
   },
   "outputs": [
    {
     "data": {
      "text/plain": [
       "{'paths': ['s3://neon-datascience-sandbox/segmentacao-cartoes/account-balance'],\n",
       " 'partitions_values': {}}"
      ]
     },
     "execution_count": 58,
     "metadata": {},
     "output_type": "execute_result"
    }
   ],
   "source": [
    "wr.s3.to_parquet(df_account_balance, 's3://neon-datascience-sandbox/segmentacao-cartoes/account-balance')"
   ]
  },
  {
   "cell_type": "code",
   "execution_count": 63,
   "id": "da601f64-a1e7-491a-890c-84538cf8c596",
   "metadata": {
    "tags": []
   },
   "outputs": [],
   "source": [
    "querie_limite_credito = f\"\"\"\n",
    "SELECT \n",
    "\tidcliente as clientid,\n",
    "\tMAX(limitecreditototal) limitecreditototal,\n",
    "\tMAX(debitoautomatico) debitoautomatico,\n",
    "\tMAX(limitecreditodisponivel) limitecreditodisponivel,\n",
    "\tMAX(diasatraso)\tdiasatraso\n",
    "FROM hive.neondw_bi.staging_bi_creditocontratocliente\n",
    "WHERE datareferencia between date_add('day', -60, current_date) and current_date\n",
    "AND aceitou = True\n",
    "AND limitecreditototal > 0\n",
    "GROUP BY 1\n",
    "\"\"\""
   ]
  },
  {
   "cell_type": "code",
   "execution_count": 64,
   "id": "8e94b074-a3da-460a-a6cf-3b7e168edb57",
   "metadata": {
    "tags": []
   },
   "outputs": [],
   "source": [
    "df_limite_credito = pd.read_sql(querie_limite_credito, conn)"
   ]
  },
  {
   "cell_type": "code",
   "execution_count": 65,
   "id": "04f8e1a9-969b-4bd0-a4b5-81e787f537b9",
   "metadata": {
    "tags": []
   },
   "outputs": [
    {
     "data": {
      "text/plain": [
       "{'paths': ['s3://neon-datascience-sandbox/segmentacao-cartoes/credito'],\n",
       " 'partitions_values': {}}"
      ]
     },
     "execution_count": 65,
     "metadata": {},
     "output_type": "execute_result"
    }
   ],
   "source": [
    "wr.s3.to_parquet(df_limite_credito, 's3://neon-datascience-sandbox/segmentacao-cartoes/credito')"
   ]
  },
  {
   "cell_type": "code",
   "execution_count": null,
   "id": "fa006f9e-ce71-4396-ae8c-720efaf0f422",
   "metadata": {},
   "outputs": [],
   "source": []
  }
 ],
 "metadata": {
  "kernelspec": {
   "display_name": "Python [conda env:datalake]",
   "language": "python",
   "name": "conda-env-datalake-py"
  },
  "language_info": {
   "codemirror_mode": {
    "name": "ipython",
    "version": 3
   },
   "file_extension": ".py",
   "mimetype": "text/x-python",
   "name": "python",
   "nbconvert_exporter": "python",
   "pygments_lexer": "ipython3",
   "version": "3.8.8"
  }
 },
 "nbformat": 4,
 "nbformat_minor": 5
}
